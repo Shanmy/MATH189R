{
 "cells": [
  {
   "cell_type": "code",
   "execution_count": 1,
   "metadata": {},
   "outputs": [],
   "source": [
    "from __future__ import print_function\n",
    "\n",
    "import tensorflow as tf\n",
    "from tensorflow import keras\n",
    "\n",
    "import numpy as np\n",
    "import matplotlib.pyplot as plt\n",
    "import pywavefront\n",
    "from mpl_toolkits.mplot3d import Axes3D\n",
    "import pandas as pd"
   ]
  },
  {
   "cell_type": "code",
   "execution_count": 2,
   "metadata": {},
   "outputs": [],
   "source": [
    "train = pd.read_csv(\"face.csv\")"
   ]
  },
  {
   "cell_type": "code",
   "execution_count": 7,
   "metadata": {},
   "outputs": [],
   "source": [
    "def roundAxis(data,axis):\n",
    "    for i in range(data.shape[0]):\n",
    "        data[i][axis] = int(data[i][axis])\n",
    "    data = sorted(data, key = lambda x:x[axis])\n",
    "    return data"
   ]
  },
  {
   "cell_type": "code",
   "execution_count": 10,
   "metadata": {},
   "outputs": [
    {
     "name": "stdout",
     "output_type": "stream",
     "text": [
      "(30000, 3)\n",
      "(30000, 3)\n",
      "(30000, 3)\n",
      "(30000, 3)\n",
      "(30000, 3)\n",
      "(30000, 3)\n",
      "(30000, 3)\n",
      "(30000, 3)\n",
      "(30000, 3)\n",
      "(30000, 3)\n",
      "(30000, 3)\n",
      "(30000, 3)\n",
      "(30000, 3)\n",
      "(30000, 3)\n",
      "(30000, 3)\n",
      "(30000, 3)\n",
      "(30000, 3)\n",
      "(30000, 3)\n",
      "(30000, 3)\n",
      "(30000, 3)\n",
      "(30000, 3)\n",
      "(30000, 3)\n",
      "(30000, 3)\n",
      "(30000, 3)\n",
      "(30000, 3)\n",
      "(30000, 3)\n",
      "(30000, 3)\n",
      "(30000, 3)\n",
      "(30000, 3)\n",
      "(30000, 3)\n",
      "(30000, 3)\n",
      "(30000, 3)\n",
      "(30000, 3)\n",
      "(30000, 3)\n",
      "(30000, 3)\n",
      "(30000, 3)\n",
      "(30000, 3)\n",
      "(30000, 3)\n",
      "(30000, 3)\n",
      "(30000, 3)\n",
      "(30000, 3)\n",
      "(30000, 3)\n",
      "(30000, 3)\n",
      "(30000, 3)\n",
      "(30000, 3)\n",
      "(30000, 3)\n",
      "(30000, 3)\n",
      "(30000, 3)\n",
      "(30000, 3)\n",
      "(30000, 3)\n",
      "(30000, 3)\n",
      "(30000, 3)\n",
      "(30000, 3)\n",
      "(30000, 3)\n",
      "(30000, 3)\n",
      "(30000, 3)\n",
      "(30000, 3)\n",
      "(30000, 3)\n",
      "(30000, 3)\n",
      "(30000, 3)\n",
      "(30000, 3)\n"
     ]
    }
   ],
   "source": [
    "label = np.array( train[\"person\"]).reshape(-1,1)\n",
    "data = np.zeros((label.shape[0],30000,3))\n",
    "for i in range(data.shape[0]):\n",
    "    scene = pywavefront.Wavefront(\"facecap-results/\"+ train[\"filename\"][i])\n",
    "    temp = np.array(scene.vertices[:30000])\n",
    "    data[i] = roundAxis(temp,0)"
   ]
  },
  {
   "cell_type": "code",
   "execution_count": 16,
   "metadata": {},
   "outputs": [
    {
     "data": {
      "text/plain": [
       "array([[117.583, 883.024, 100.868],\n",
       "       [117.583, 887.127, 107.299],\n",
       "       [117.583, 891.23 , 154.414],\n",
       "       ...,\n",
       "       [371.955, 751.736, 496.034],\n",
       "       [371.955, 755.838, 497.557],\n",
       "       [371.955, 759.941, 498.29 ]])"
      ]
     },
     "execution_count": 16,
     "metadata": {},
     "output_type": "execute_result"
    }
   ],
   "source": [
    "dat"
   ]
  },
  {
   "cell_type": "code",
   "execution_count": 11,
   "metadata": {},
   "outputs": [
    {
     "name": "stdout",
     "output_type": "stream",
     "text": [
      "WARNING:tensorflow:From /anaconda3/lib/python3.5/site-packages/tensorflow/python/keras/layers/core.py:143: calling dropout (from tensorflow.python.ops.nn_ops) with keep_prob is deprecated and will be removed in a future version.\n",
      "Instructions for updating:\n",
      "Please use `rate` instead of `keep_prob`. Rate should be set to `rate = 1 - keep_prob`.\n",
      "WARNING:tensorflow:From /anaconda3/lib/python3.5/site-packages/tensorflow/python/ops/control_flow_ops.py:423: colocate_with (from tensorflow.python.framework.ops) is deprecated and will be removed in a future version.\n",
      "Instructions for updating:\n",
      "Colocations handled automatically by placer.\n"
     ]
    }
   ],
   "source": [
    "model = keras.Sequential([keras.layers.Flatten(input_shape=(30000,3)),\n",
    "                          keras.layers.Dropout(0.2),\n",
    "                          keras.layers.Dense(1024, kernel_initializer='normal', activation=tf.nn.sigmoid),\n",
    "                          keras.layers.Dense(512,kernel_initializer='normal', activation = tf.nn.relu),\n",
    "                          keras.layers.Dense(128,kernel_initializer='normal', activation = tf.nn.relu),\n",
    "                          keras.layers.Dense(4, activation=tf.nn.softmax)])"
   ]
  },
  {
   "cell_type": "code",
   "execution_count": 12,
   "metadata": {},
   "outputs": [],
   "source": [
    "model.compile(optimizer='adam',loss='sparse_categorical_crossentropy',metrics=['accuracy'])"
   ]
  },
  {
   "cell_type": "code",
   "execution_count": 13,
   "metadata": {},
   "outputs": [
    {
     "name": "stdout",
     "output_type": "stream",
     "text": [
      "Epoch 1/50\n",
      "61/61 [==============================] - 8s 126ms/sample - loss: 2.4282 - acc: 0.1803\n",
      "Epoch 2/50\n",
      "61/61 [==============================] - 4s 64ms/sample - loss: 1.4462 - acc: 0.4426\n",
      "Epoch 3/50\n",
      "61/61 [==============================] - 4s 60ms/sample - loss: 1.8157 - acc: 0.3934\n",
      "Epoch 4/50\n",
      "61/61 [==============================] - 4s 58ms/sample - loss: 1.3627 - acc: 0.3443\n",
      "Epoch 5/50\n",
      "61/61 [==============================] - 4s 59ms/sample - loss: 1.3192 - acc: 0.3279\n",
      "Epoch 6/50\n",
      "61/61 [==============================] - 5s 75ms/sample - loss: 1.2746 - acc: 0.3934\n",
      "Epoch 7/50\n",
      "61/61 [==============================] - 5s 85ms/sample - loss: 1.3052 - acc: 0.3934\n",
      "Epoch 8/50\n",
      "61/61 [==============================] - 5s 74ms/sample - loss: 1.2615 - acc: 0.4262\n",
      "Epoch 9/50\n",
      "61/61 [==============================] - 4s 73ms/sample - loss: 1.2602 - acc: 0.2787\n",
      "Epoch 10/50\n",
      "61/61 [==============================] - 4s 63ms/sample - loss: 1.2320 - acc: 0.4590\n",
      "Epoch 11/50\n",
      "61/61 [==============================] - 4s 67ms/sample - loss: 1.2380 - acc: 0.3934\n",
      "Epoch 12/50\n",
      "61/61 [==============================] - 4s 63ms/sample - loss: 1.2810 - acc: 0.3770\n",
      "Epoch 13/50\n",
      "61/61 [==============================] - 4s 67ms/sample - loss: 1.2312 - acc: 0.2951\n",
      "Epoch 14/50\n",
      "61/61 [==============================] - 4s 66ms/sample - loss: 1.2314 - acc: 0.4262\n",
      "Epoch 15/50\n",
      "61/61 [==============================] - 4s 65ms/sample - loss: 1.2539 - acc: 0.3443\n",
      "Epoch 16/50\n",
      "61/61 [==============================] - 4s 65ms/sample - loss: 1.2389 - acc: 0.3934\n",
      "Epoch 17/50\n",
      "61/61 [==============================] - 4s 58ms/sample - loss: 1.2645 - acc: 0.3279\n",
      "Epoch 18/50\n",
      "61/61 [==============================] - 4s 64ms/sample - loss: 1.2493 - acc: 0.3279\n",
      "Epoch 19/50\n",
      "61/61 [==============================] - 4s 66ms/sample - loss: 1.2388 - acc: 0.4098\n",
      "Epoch 20/50\n",
      "61/61 [==============================] - 4s 69ms/sample - loss: 1.2329 - acc: 0.3934\n",
      "Epoch 21/50\n",
      "61/61 [==============================] - 4s 70ms/sample - loss: 1.2438 - acc: 0.3934\n",
      "Epoch 22/50\n",
      "61/61 [==============================] - 4s 73ms/sample - loss: 1.2323 - acc: 0.3934\n",
      "Epoch 23/50\n",
      "61/61 [==============================] - 4s 61ms/sample - loss: 1.2531 - acc: 0.4590\n",
      "Epoch 24/50\n",
      "61/61 [==============================] - 4s 66ms/sample - loss: 1.2384 - acc: 0.4590\n",
      "Epoch 25/50\n",
      "61/61 [==============================] - 5s 79ms/sample - loss: 1.2398 - acc: 0.3934\n",
      "Epoch 26/50\n",
      "61/61 [==============================] - 4s 68ms/sample - loss: 1.2514 - acc: 0.3934\n",
      "Epoch 27/50\n",
      "61/61 [==============================] - 5s 80ms/sample - loss: 1.2474 - acc: 0.3934\n",
      "Epoch 28/50\n",
      "61/61 [==============================] - 6s 99ms/sample - loss: 1.2437 - acc: 0.3934\n",
      "Epoch 29/50\n",
      "61/61 [==============================] - 4s 63ms/sample - loss: 1.2554 - acc: 0.3934\n",
      "Epoch 30/50\n",
      "61/61 [==============================] - 5s 79ms/sample - loss: 1.2639 - acc: 0.4426\n",
      "Epoch 31/50\n",
      "61/61 [==============================] - 5s 76ms/sample - loss: 1.2337 - acc: 0.3770\n",
      "Epoch 32/50\n",
      "61/61 [==============================] - 4s 64ms/sample - loss: 1.2633 - acc: 0.4262\n",
      "Epoch 33/50\n",
      "61/61 [==============================] - 4s 71ms/sample - loss: 1.2559 - acc: 0.3934\n",
      "Epoch 34/50\n",
      "61/61 [==============================] - 5s 90ms/sample - loss: 1.2481 - acc: 0.2951\n",
      "Epoch 35/50\n",
      "61/61 [==============================] - 12s 197ms/sample - loss: 1.2476 - acc: 0.3770\n",
      "Epoch 36/50\n",
      "61/61 [==============================] - 13s 207ms/sample - loss: 1.2568 - acc: 0.3934\n",
      "Epoch 37/50\n",
      "61/61 [==============================] - 9s 155ms/sample - loss: 1.2353 - acc: 0.3934\n",
      "Epoch 38/50\n",
      "61/61 [==============================] - 5s 88ms/sample - loss: 1.2466 - acc: 0.3934\n",
      "Epoch 39/50\n",
      "61/61 [==============================] - 6s 97ms/sample - loss: 1.2444 - acc: 0.4098\n",
      "Epoch 40/50\n",
      "61/61 [==============================] - 4s 62ms/sample - loss: 1.2477 - acc: 0.4098\n",
      "Epoch 41/50\n",
      "61/61 [==============================] - 4s 63ms/sample - loss: 1.2506 - acc: 0.3770\n",
      "Epoch 42/50\n",
      "61/61 [==============================] - 4s 61ms/sample - loss: 1.2353 - acc: 0.3934\n",
      "Epoch 43/50\n",
      "61/61 [==============================] - 4s 62ms/sample - loss: 1.2434 - acc: 0.4098\n",
      "Epoch 44/50\n",
      "61/61 [==============================] - 4s 67ms/sample - loss: 1.2543 - acc: 0.3279\n",
      "Epoch 45/50\n",
      "61/61 [==============================] - 4s 61ms/sample - loss: 1.2408 - acc: 0.3607\n",
      "Epoch 46/50\n",
      "61/61 [==============================] - 4s 66ms/sample - loss: 1.2479 - acc: 0.3934\n",
      "Epoch 47/50\n",
      "61/61 [==============================] - 4s 64ms/sample - loss: 1.2492 - acc: 0.3934\n",
      "Epoch 48/50\n",
      "61/61 [==============================] - 4s 67ms/sample - loss: 1.2281 - acc: 0.3934\n",
      "Epoch 49/50\n",
      "61/61 [==============================] - 4s 61ms/sample - loss: 1.2456 - acc: 0.4426\n",
      "Epoch 50/50\n",
      "61/61 [==============================] - 4s 63ms/sample - loss: 1.2385 - acc: 0.4098\n"
     ]
    },
    {
     "data": {
      "text/plain": [
       "<tensorflow.python.keras.callbacks.History at 0x117b79400>"
      ]
     },
     "execution_count": 13,
     "metadata": {},
     "output_type": "execute_result"
    }
   ],
   "source": [
    "model.fit(data,label,epochs=50)"
   ]
  },
  {
   "cell_type": "code",
   "execution_count": 18,
   "metadata": {},
   "outputs": [
    {
     "name": "stdout",
     "output_type": "stream",
     "text": [
      "10000/10000 [==============================] - 1s 56us/step\n",
      "Test accuracy: 0.8732\n"
     ]
    }
   ],
   "source": []
  },
  {
   "cell_type": "code",
   "execution_count": 19,
   "metadata": {},
   "outputs": [],
   "source": []
  },
  {
   "cell_type": "code",
   "execution_count": 20,
   "metadata": {},
   "outputs": [
    {
     "data": {
      "text/plain": [
       "9"
      ]
     },
     "execution_count": 20,
     "metadata": {},
     "output_type": "execute_result"
    }
   ],
   "source": []
  },
  {
   "cell_type": "code",
   "execution_count": 25,
   "metadata": {},
   "outputs": [
    {
     "data": {
      "text/plain": [
       "<matplotlib.image.AxesImage at 0x113fd4860>"
      ]
     },
     "execution_count": 25,
     "metadata": {},
     "output_type": "execute_result"
    },
    {
     "data": {
      "image/png": "[encoded data removed]",
      "text/plain": [
       "<Figure size 432x288 with 1 Axes>"
      ]
     },
     "metadata": {},
     "output_type": "display_data"
    }
   ],
   "source": []
  },
  {
   "cell_type": "code",
   "execution_count": null,
   "metadata": {},
   "outputs": [],
   "source": []
  }
 ],
 "metadata": {
  "kernelspec": {
   "display_name": "Python 3",
   "language": "python",
   "name": "python3"
  },
  "language_info": {
   "codemirror_mode": {
    "name": "ipython",
    "version": 3
   },
   "file_extension": ".py",
   "mimetype": "text/x-python",
   "name": "python",
   "nbconvert_exporter": "python",
   "pygments_lexer": "ipython3",
   "version": "3.5.5"
  }
 },
 "nbformat": 4,
 "nbformat_minor": 2
}
